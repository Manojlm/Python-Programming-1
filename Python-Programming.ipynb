{
 "cells": [
  {
   "cell_type": "markdown",
   "id": "fc8b6e6a",
   "metadata": {},
   "source": [
    "## Chapter-1 - Python Programming"
   ]
  },
  {
   "cell_type": "markdown",
   "id": "499eb049",
   "metadata": {},
   "source": [
    "### 1.(a) Hello World"
   ]
  },
  {
   "cell_type": "code",
   "execution_count": 1,
   "id": "d3052ab7",
   "metadata": {},
   "outputs": [
    {
     "name": "stdout",
     "output_type": "stream",
     "text": [
      "Welcome to data science course\n"
     ]
    }
   ],
   "source": [
    "print('Welcome to data science course')"
   ]
  },
  {
   "cell_type": "markdown",
   "id": "7c3ea2cb",
   "metadata": {},
   "source": [
    "Inference:\n",
    "- We should put the single quotes for to print any english world."
   ]
  },
  {
   "cell_type": "code",
   "execution_count": 4,
   "id": "a76f50c2",
   "metadata": {},
   "outputs": [
    {
     "name": "stdout",
     "output_type": "stream",
     "text": [
      "Manoj said, Data science is a one of my favourite course\n"
     ]
    }
   ],
   "source": [
    "print(\"Manoj said, Data science is a one of my favourite course\")"
   ]
  },
  {
   "cell_type": "code",
   "execution_count": 10,
   "id": "9d49961b",
   "metadata": {},
   "outputs": [
    {
     "name": "stdout",
     "output_type": "stream",
     "text": [
      "manoj friend said, \"data science is very complex subject\".\n"
     ]
    }
   ],
   "source": [
    "print(\"\"\"manoj friend said, \"data science is very complex subject\".\"\"\")"
   ]
  },
  {
   "cell_type": "code",
   "execution_count": 11,
   "id": "91d7e9f2",
   "metadata": {},
   "outputs": [
    {
     "name": "stdout",
     "output_type": "stream",
     "text": [
      "15\n"
     ]
    }
   ],
   "source": [
    "print(15)"
   ]
  },
  {
   "cell_type": "code",
   "execution_count": 12,
   "id": "56c82d37",
   "metadata": {},
   "outputs": [
    {
     "name": "stdout",
     "output_type": "stream",
     "text": [
      "75\n"
     ]
    }
   ],
   "source": [
    "print(15*5)"
   ]
  },
  {
   "cell_type": "code",
   "execution_count": 13,
   "id": "03ec5031",
   "metadata": {},
   "outputs": [
    {
     "name": "stdout",
     "output_type": "stream",
     "text": [
      "3.0\n"
     ]
    }
   ],
   "source": [
    "print(15/5)"
   ]
  },
  {
   "cell_type": "code",
   "execution_count": 14,
   "id": "5a6147c0",
   "metadata": {},
   "outputs": [
    {
     "name": "stdout",
     "output_type": "stream",
     "text": [
      "230\n"
     ]
    }
   ],
   "source": [
    "print(15+148+67)"
   ]
  },
  {
   "cell_type": "markdown",
   "id": "15008d30",
   "metadata": {},
   "source": [
    "### 1.(b) Create Variable"
   ]
  },
  {
   "cell_type": "code",
   "execution_count": 15,
   "id": "ae405f68",
   "metadata": {},
   "outputs": [],
   "source": [
    "DS_Students = 'Manoj', 'Vaibhav', 'Arthi', 'Vennella'"
   ]
  },
  {
   "cell_type": "code",
   "execution_count": 16,
   "id": "9c932e06",
   "metadata": {},
   "outputs": [
    {
     "data": {
      "text/plain": [
       "('Manoj', 'Vaibhav', 'Arthi', 'Vennella')"
      ]
     },
     "execution_count": 16,
     "metadata": {},
     "output_type": "execute_result"
    }
   ],
   "source": [
    "DS_Students"
   ]
  },
  {
   "cell_type": "code",
   "execution_count": 17,
   "id": "c6ae40be",
   "metadata": {},
   "outputs": [
    {
     "data": {
      "text/plain": [
       "4"
      ]
     },
     "execution_count": 17,
     "metadata": {},
     "output_type": "execute_result"
    }
   ],
   "source": [
    "#len function is used for to calucate the number of elements in variable.\n",
    "len(DS_Students)"
   ]
  },
  {
   "cell_type": "code",
   "execution_count": 18,
   "id": "61db791f",
   "metadata": {},
   "outputs": [
    {
     "data": {
      "text/plain": [
       "('Manoj', 'Vaibhav', 'Arthi', 'Vennella')"
      ]
     },
     "execution_count": 18,
     "metadata": {},
     "output_type": "execute_result"
    }
   ],
   "source": [
    "DS_Students[:]"
   ]
  },
  {
   "cell_type": "code",
   "execution_count": 20,
   "id": "1d961ff6",
   "metadata": {},
   "outputs": [
    {
     "data": {
      "text/plain": [
       "('Vaibhav', 'Arthi')"
      ]
     },
     "execution_count": 20,
     "metadata": {},
     "output_type": "execute_result"
    }
   ],
   "source": [
    "DS_Students[1:3]#Slicing"
   ]
  },
  {
   "cell_type": "markdown",
   "id": "301922bf",
   "metadata": {},
   "source": [
    "Inference:\n",
    "- in the part of slicing the last digit always should be n+1"
   ]
  },
  {
   "cell_type": "markdown",
   "id": "687c24d5",
   "metadata": {},
   "source": [
    "## Chapter-2- Strings and String Methods"
   ]
  },
  {
   "cell_type": "markdown",
   "id": "ab784329",
   "metadata": {},
   "source": [
    "### 3 Datatypes in python\n",
    "**1. Int-Integer**-Only Whole Numbers\n",
    "\n",
    "**2. Float**- with Decimal points\n",
    "\n",
    "**3. String**- anything which is enclosed within quotes"
   ]
  },
  {
   "cell_type": "markdown",
   "id": "cfd8d62e",
   "metadata": {},
   "source": [
    "### 1. String\n",
    "- Anything which is encolsed with quotes that's called string."
   ]
  },
  {
   "cell_type": "code",
   "execution_count": 21,
   "id": "734be9d2",
   "metadata": {},
   "outputs": [],
   "source": [
    "Assessment_marks = '100'"
   ]
  },
  {
   "cell_type": "code",
   "execution_count": 22,
   "id": "d8ecefb8",
   "metadata": {},
   "outputs": [
    {
     "data": {
      "text/plain": [
       "'100'"
      ]
     },
     "execution_count": 22,
     "metadata": {},
     "output_type": "execute_result"
    }
   ],
   "source": [
    "Assessment_marks"
   ]
  },
  {
   "cell_type": "code",
   "execution_count": 23,
   "id": "7930cea3",
   "metadata": {},
   "outputs": [
    {
     "data": {
      "text/plain": [
       "str"
      ]
     },
     "execution_count": 23,
     "metadata": {},
     "output_type": "execute_result"
    }
   ],
   "source": [
    "type(Assessment_marks)"
   ]
  },
  {
   "cell_type": "code",
   "execution_count": 24,
   "id": "dbd0cb26",
   "metadata": {},
   "outputs": [],
   "source": [
    "Coding_marks = \"95\""
   ]
  },
  {
   "cell_type": "code",
   "execution_count": 25,
   "id": "21181ab9",
   "metadata": {},
   "outputs": [
    {
     "data": {
      "text/plain": [
       "'95'"
      ]
     },
     "execution_count": 25,
     "metadata": {},
     "output_type": "execute_result"
    }
   ],
   "source": [
    "Coding_marks"
   ]
  },
  {
   "cell_type": "code",
   "execution_count": 26,
   "id": "c681731e",
   "metadata": {},
   "outputs": [
    {
     "data": {
      "text/plain": [
       "str"
      ]
     },
     "execution_count": 26,
     "metadata": {},
     "output_type": "execute_result"
    }
   ],
   "source": [
    "type(Coding_marks)"
   ]
  },
  {
   "cell_type": "markdown",
   "id": "7fa2dc0e",
   "metadata": {},
   "source": [
    "### 2. INT- Interger\n",
    "- The only whole number"
   ]
  },
  {
   "cell_type": "code",
   "execution_count": 27,
   "id": "a0fd93ed",
   "metadata": {},
   "outputs": [],
   "source": [
    "Test_marks = 100"
   ]
  },
  {
   "cell_type": "code",
   "execution_count": 28,
   "id": "7b3e2cef",
   "metadata": {},
   "outputs": [
    {
     "data": {
      "text/plain": [
       "100"
      ]
     },
     "execution_count": 28,
     "metadata": {},
     "output_type": "execute_result"
    }
   ],
   "source": [
    "Test_marks"
   ]
  },
  {
   "cell_type": "code",
   "execution_count": 29,
   "id": "7b8d11c7",
   "metadata": {},
   "outputs": [
    {
     "data": {
      "text/plain": [
       "int"
      ]
     },
     "execution_count": 29,
     "metadata": {},
     "output_type": "execute_result"
    }
   ],
   "source": [
    "type(Test_marks)"
   ]
  },
  {
   "cell_type": "markdown",
   "id": "090cd614",
   "metadata": {},
   "source": [
    "### 3. Float\n",
    "- Anything which comes from with decimal point that datatype we called as float."
   ]
  },
  {
   "cell_type": "code",
   "execution_count": 31,
   "id": "6b8c29b8",
   "metadata": {},
   "outputs": [],
   "source": [
    "project_score = 97.5"
   ]
  },
  {
   "cell_type": "code",
   "execution_count": 32,
   "id": "33e1993a",
   "metadata": {},
   "outputs": [
    {
     "data": {
      "text/plain": [
       "97.5"
      ]
     },
     "execution_count": 32,
     "metadata": {},
     "output_type": "execute_result"
    }
   ],
   "source": [
    "project_score"
   ]
  },
  {
   "cell_type": "code",
   "execution_count": 33,
   "id": "3694e240",
   "metadata": {},
   "outputs": [
    {
     "data": {
      "text/plain": [
       "float"
      ]
     },
     "execution_count": 33,
     "metadata": {},
     "output_type": "execute_result"
    }
   ],
   "source": [
    "type(project_score)"
   ]
  },
  {
   "cell_type": "markdown",
   "id": "cb398dc7",
   "metadata": {},
   "source": [
    "## 2.[b] Concatenation- Indexing- Slicing"
   ]
  },
  {
   "cell_type": "code",
   "execution_count": 45,
   "id": "ad41e9f7",
   "metadata": {},
   "outputs": [],
   "source": [
    "first_name = 'Manoj'\n",
    "last_name = 'LM'\n",
    "age = 24"
   ]
  },
  {
   "cell_type": "code",
   "execution_count": 35,
   "id": "c6a61222",
   "metadata": {},
   "outputs": [
    {
     "data": {
      "text/plain": [
       "str"
      ]
     },
     "execution_count": 35,
     "metadata": {},
     "output_type": "execute_result"
    }
   ],
   "source": [
    "type(first_name)"
   ]
  },
  {
   "cell_type": "code",
   "execution_count": 36,
   "id": "67d1ddd8",
   "metadata": {},
   "outputs": [
    {
     "data": {
      "text/plain": [
       "str"
      ]
     },
     "execution_count": 36,
     "metadata": {},
     "output_type": "execute_result"
    }
   ],
   "source": [
    "type(last_name)"
   ]
  },
  {
   "cell_type": "code",
   "execution_count": 37,
   "id": "883afec7",
   "metadata": {},
   "outputs": [
    {
     "data": {
      "text/plain": [
       "('Manoj', 'LM')"
      ]
     },
     "execution_count": 37,
     "metadata": {},
     "output_type": "execute_result"
    }
   ],
   "source": [
    "first_name, last_name"
   ]
  },
  {
   "cell_type": "code",
   "execution_count": 38,
   "id": "db326cb1",
   "metadata": {},
   "outputs": [
    {
     "data": {
      "text/plain": [
       "'LM'"
      ]
     },
     "execution_count": 38,
     "metadata": {},
     "output_type": "execute_result"
    }
   ],
   "source": [
    "first_name\n",
    "last_name"
   ]
  },
  {
   "cell_type": "code",
   "execution_count": 39,
   "id": "589cf6f2",
   "metadata": {},
   "outputs": [
    {
     "name": "stdout",
     "output_type": "stream",
     "text": [
      "Manoj\n",
      "LM\n"
     ]
    }
   ],
   "source": [
    "print(first_name)\n",
    "print(last_name)"
   ]
  },
  {
   "cell_type": "code",
   "execution_count": 40,
   "id": "8bc608eb",
   "metadata": {},
   "outputs": [
    {
     "name": "stdout",
     "output_type": "stream",
     "text": [
      "Manoj LM\n"
     ]
    }
   ],
   "source": [
    "print(first_name, last_name)"
   ]
  },
  {
   "cell_type": "code",
   "execution_count": 44,
   "id": "ca8ca23c",
   "metadata": {},
   "outputs": [
    {
     "name": "stdout",
     "output_type": "stream",
     "text": [
      "FIRST_NAME :Manoj LAST_NAME :LM\n"
     ]
    }
   ],
   "source": [
    "print('FIRST_NAME :' +first_name + ' LAST_NAME :' +last_name)# This we calles as string Concatenation."
   ]
  },
  {
   "cell_type": "code",
   "execution_count": 49,
   "id": "f48b3a13",
   "metadata": {},
   "outputs": [
    {
     "name": "stdout",
     "output_type": "stream",
     "text": [
      "FIRST_NAME :Manoj LAST_NAME :LM AGE :24\n"
     ]
    }
   ],
   "source": [
    "print('FIRST_NAME :' + first_name + ' LAST_NAME :' +last_name + ' AGE :' + str(age))# This is Type Casting with concatenation"
   ]
  },
  {
   "cell_type": "markdown",
   "id": "022ea2fd",
   "metadata": {},
   "source": [
    "Inference:\n",
    "- The conversion of one data type into another data type that we called as Type Casting."
   ]
  },
  {
   "cell_type": "code",
   "execution_count": 52,
   "id": "524fcd86",
   "metadata": {},
   "outputs": [
    {
     "name": "stdout",
     "output_type": "stream",
     "text": [
      "FIRST_NAME : Manoj \n",
      "LAST_NAME : LM \n",
      "AGE : 24\n"
     ]
    }
   ],
   "source": [
    "print('FIRST_NAME :',first_name, '\\nLAST_NAME :',last_name, '\\nAGE :',age)"
   ]
  },
  {
   "cell_type": "code",
   "execution_count": 53,
   "id": "421e80b1",
   "metadata": {},
   "outputs": [
    {
     "name": "stdout",
     "output_type": "stream",
     "text": [
      "FIRST_NAME : Manoj \n",
      "LAST_NAME : LM \n",
      "AGE : 24\n"
     ]
    }
   ],
   "source": [
    "print('FIRST_NAME :',first_name, '\\nLAST_NAME :',last_name, '\\nAGE :',age)"
   ]
  },
  {
   "cell_type": "markdown",
   "id": "5acd8a2c",
   "metadata": {},
   "source": [
    "## 2.[c] Manipulating String with Methods"
   ]
  },
  {
   "cell_type": "markdown",
   "id": "9fe93000",
   "metadata": {},
   "source": [
    "**Methods or Functions:** Inorder to do some certain operation on our variable, we go for Methods. And always a method enclosed with ()."
   ]
  },
  {
   "cell_type": "code",
   "execution_count": 54,
   "id": "d618912a",
   "metadata": {},
   "outputs": [],
   "source": [
    "learner_1 = 'Amith'\n",
    "learner_2 = '   Sudha'\n",
    "learner_3 = 'Abhi      '\n",
    "learner_4 = '   Manoj   '"
   ]
  },
  {
   "cell_type": "code",
   "execution_count": 55,
   "id": "d5427284",
   "metadata": {},
   "outputs": [
    {
     "name": "stdout",
     "output_type": "stream",
     "text": [
      "Amith\n",
      "   Sudha\n",
      "Abhi      \n",
      "   Manoj   \n"
     ]
    }
   ],
   "source": [
    "print(learner_1)\n",
    "print(learner_2)\n",
    "print(learner_3)\n",
    "print(learner_4)"
   ]
  },
  {
   "cell_type": "code",
   "execution_count": 57,
   "id": "aaa7c6c4",
   "metadata": {},
   "outputs": [
    {
     "data": {
      "text/plain": [
       "(5, 8, 10, 11)"
      ]
     },
     "execution_count": 57,
     "metadata": {},
     "output_type": "execute_result"
    }
   ],
   "source": [
    "len(learner_1),len(learner_2),len(learner_3),len(learner_4)"
   ]
  },
  {
   "cell_type": "code",
   "execution_count": 58,
   "id": "e39bcdbc",
   "metadata": {},
   "outputs": [
    {
     "data": {
      "text/plain": [
       "'AMITH'"
      ]
     },
     "execution_count": 58,
     "metadata": {},
     "output_type": "execute_result"
    }
   ],
   "source": [
    "learner_1.upper()# return a copy of the string converted to Uppercase."
   ]
  },
  {
   "cell_type": "code",
   "execution_count": 60,
   "id": "f204e66c",
   "metadata": {},
   "outputs": [
    {
     "data": {
      "text/plain": [
       "'Sudha'"
      ]
     },
     "execution_count": 60,
     "metadata": {},
     "output_type": "execute_result"
    }
   ],
   "source": [
    "learner_2.lstrip()# return a copy of the string with removing the space in left side."
   ]
  },
  {
   "cell_type": "code",
   "execution_count": 61,
   "id": "fcc3bfb6",
   "metadata": {},
   "outputs": [
    {
     "data": {
      "text/plain": [
       "'Abhi'"
      ]
     },
     "execution_count": 61,
     "metadata": {},
     "output_type": "execute_result"
    }
   ],
   "source": [
    "learner_3.rstrip()# return a copy of the string with removing the space in right side."
   ]
  },
  {
   "cell_type": "code",
   "execution_count": 62,
   "id": "575766b0",
   "metadata": {},
   "outputs": [
    {
     "data": {
      "text/plain": [
       "'Manoj'"
      ]
     },
     "execution_count": 62,
     "metadata": {},
     "output_type": "execute_result"
    }
   ],
   "source": [
    "learner_4.strip()# return a copy of the string with removing the space in both side of the string"
   ]
  },
  {
   "cell_type": "markdown",
   "id": "106e5c85",
   "metadata": {},
   "source": [
    "## 2.[d] Interact with user input"
   ]
  },
  {
   "cell_type": "code",
   "execution_count": 63,
   "id": "df88dfc1",
   "metadata": {},
   "outputs": [
    {
     "name": "stdout",
     "output_type": "stream",
     "text": [
      "UserName:Manoj\n",
      "Username starts with M\n"
     ]
    }
   ],
   "source": [
    "user_input = input('UserName:')\n",
    "\n",
    "print('Username starts with', user_input[0])"
   ]
  },
  {
   "cell_type": "markdown",
   "id": "34f89d23",
   "metadata": {},
   "source": [
    "## 2.[e] Get 2 inputs from the user and print it."
   ]
  },
  {
   "cell_type": "code",
   "execution_count": 64,
   "id": "b48cf7a7",
   "metadata": {},
   "outputs": [
    {
     "name": "stdout",
     "output_type": "stream",
     "text": [
      "Your god:Appa and Amma\n",
      "Your roll model is Appa and Amma\n",
      "Your 2nd God:Appa Amma\n",
      "Your life is Appa Amma\n"
     ]
    }
   ],
   "source": [
    "user_input_2 = input('Your god:')\n",
    "print('Your roll model is',user_input_2)\n",
    "\n",
    "user_input_3 = input('Your 2nd God:')\n",
    "print('Your life is',user_input_3)"
   ]
  },
  {
   "cell_type": "markdown",
   "id": "d7326a20",
   "metadata": {},
   "source": [
    "## 2.[f] Streamline your print statements."
   ]
  },
  {
   "cell_type": "code",
   "execution_count": 65,
   "id": "3cd26295",
   "metadata": {},
   "outputs": [
    {
     "name": "stdout",
     "output_type": "stream",
     "text": [
      "Your god:Appa Amma\n",
      "Your 2nd God:Appa Amma\n",
      "Your life is : Appa Amma\n",
      " Your roll model is : Appa Amma\n"
     ]
    }
   ],
   "source": [
    "user_input_2 = input('Your god:')\n",
    "user_input_3 = input('Your 2nd God:')\n",
    "\n",
    "print('Your life is : {}\\n Your roll model is : {}'.format(user_input_2,user_input_3))"
   ]
  },
  {
   "cell_type": "markdown",
   "id": "676f214e",
   "metadata": {},
   "source": [
    "## Chapter: 3- Numbers in Python."
   ]
  },
  {
   "cell_type": "code",
   "execution_count": 70,
   "id": "27bf9afc",
   "metadata": {},
   "outputs": [
    {
     "name": "stdout",
     "output_type": "stream",
     "text": [
      "Enter you Marks:100\n",
      "Scored marks: 100\n"
     ]
    }
   ],
   "source": [
    "user_marks = input('Enter you Marks:')\n",
    "\n",
    "print('Scored marks:',user_marks)"
   ]
  },
  {
   "cell_type": "code",
   "execution_count": 71,
   "id": "2bba6b8d",
   "metadata": {},
   "outputs": [
    {
     "data": {
      "text/plain": [
       "str"
      ]
     },
     "execution_count": 71,
     "metadata": {},
     "output_type": "execute_result"
    }
   ],
   "source": [
    "type(user_marks)"
   ]
  },
  {
   "cell_type": "markdown",
   "id": "a34b97db",
   "metadata": {},
   "source": [
    "Inference: \n",
    "- the datatype of marks showing as a 'str' but it is false."
   ]
  },
  {
   "cell_type": "code",
   "execution_count": 74,
   "id": "19945d3b",
   "metadata": {},
   "outputs": [
    {
     "name": "stdout",
     "output_type": "stream",
     "text": [
      "Enter your marks99\n",
      "Scored marks : 99\n"
     ]
    }
   ],
   "source": [
    "user_marks1 = int(input('Enter your marks'))\n",
    "\n",
    "print('Scored marks :',abs(user_marks1))# Python abs() returns the absolute value of any given number."
   ]
  },
  {
   "cell_type": "code",
   "execution_count": 75,
   "id": "35582ccd",
   "metadata": {},
   "outputs": [
    {
     "data": {
      "text/plain": [
       "int"
      ]
     },
     "execution_count": 75,
     "metadata": {},
     "output_type": "execute_result"
    }
   ],
   "source": [
    "type(user_marks1)"
   ]
  },
  {
   "cell_type": "markdown",
   "id": "23cee994",
   "metadata": {},
   "source": [
    "Inference:\n",
    "- See here we used Typecasting for to conversion the datatype str into int."
   ]
  },
  {
   "cell_type": "markdown",
   "id": "eb7568d9",
   "metadata": {},
   "source": [
    "## Chapter: 4- Functions and Loops."
   ]
  },
  {
   "cell_type": "markdown",
   "id": "360f89ea",
   "metadata": {},
   "source": [
    "3types of functions in Python:\n",
    "\n",
    "1. Built-in Function/Predefined - this function will get installed when we are Anaconda Navigotor.\n",
    "\n",
    "2. User-defined Function - User given function. Customizable.\n",
    "\n",
    "3. Anonymous Function - It is a nameless function used to accomplish one task at once."
   ]
  },
  {
   "cell_type": "markdown",
   "id": "b66e9ab5",
   "metadata": {},
   "source": [
    "### 4.[a] Write your Own Function.  "
   ]
  },
  {
   "cell_type": "code",
   "execution_count": 76,
   "id": "912579be",
   "metadata": {},
   "outputs": [],
   "source": [
    "# Step 1 : Function defination.\n",
    "def get_details():\n",
    "    print('Welcome to our data science session.')\n",
    "    print('Thank you!!')"
   ]
  },
  {
   "cell_type": "code",
   "execution_count": 78,
   "id": "ec7b1aef",
   "metadata": {},
   "outputs": [
    {
     "name": "stdout",
     "output_type": "stream",
     "text": [
      "Welcome to our data science session.\n",
      "Thank you!!\n"
     ]
    }
   ],
   "source": [
    "# Calling a function.\n",
    "get_details()"
   ]
  },
  {
   "cell_type": "markdown",
   "id": "da939f85",
   "metadata": {},
   "source": [
    "### Positional Argument."
   ]
  },
  {
   "cell_type": "code",
   "execution_count": 79,
   "id": "666e1a7f",
   "metadata": {},
   "outputs": [],
   "source": [
    "def get_numbers(num1, num2):\n",
    "    print('Number 1:',num1)\n",
    "    print('Number 2:',num2)\n",
    "    print('Function ended')\n",
    "    return num1*num2# Termination point\n"
   ]
  },
  {
   "cell_type": "code",
   "execution_count": 80,
   "id": "70b9bdbb",
   "metadata": {},
   "outputs": [
    {
     "name": "stdout",
     "output_type": "stream",
     "text": [
      "Number 1: 25\n",
      "Number 2: 65\n",
      "Function ended\n"
     ]
    },
    {
     "data": {
      "text/plain": [
       "1625"
      ]
     },
     "execution_count": 80,
     "metadata": {},
     "output_type": "execute_result"
    }
   ],
   "source": [
    "get_numbers(25,65)"
   ]
  },
  {
   "cell_type": "code",
   "execution_count": 85,
   "id": "44a46bab",
   "metadata": {},
   "outputs": [],
   "source": [
    "def get_student_details(student_id, student_name, student_course):\n",
    "    print('*********************************************************')\n",
    "    print('Student ID    :', student_id)\n",
    "    print('Student Name  :', student_name)\n",
    "    print('Student Course:', student_course)\n",
    "    print('*********************************************************')"
   ]
  },
  {
   "cell_type": "code",
   "execution_count": 86,
   "id": "37b74b05",
   "metadata": {},
   "outputs": [
    {
     "name": "stdout",
     "output_type": "stream",
     "text": [
      "*********************************************************\n",
      "Student ID    : 1\n",
      "Student Name  : Manoj\n",
      "Student Course: Data Science\n",
      "*********************************************************\n"
     ]
    }
   ],
   "source": [
    "get_student_details(1,'Manoj','Data Science')"
   ]
  },
  {
   "cell_type": "code",
   "execution_count": 87,
   "id": "e4eafa66",
   "metadata": {},
   "outputs": [
    {
     "name": "stdout",
     "output_type": "stream",
     "text": [
      "*********************************************************\n",
      "Student ID    : 2\n",
      "Student Name  : Avinash\n",
      "Student Course: Data Science\n",
      "*********************************************************\n"
     ]
    }
   ],
   "source": [
    "get_student_details(2,'Avinash','Data Science')"
   ]
  },
  {
   "cell_type": "markdown",
   "id": "eae7636a",
   "metadata": {},
   "source": [
    "### 4.[b] Run in Circles"
   ]
  },
  {
   "cell_type": "code",
   "execution_count": 99,
   "id": "14143491",
   "metadata": {},
   "outputs": [
    {
     "name": "stdout",
     "output_type": "stream",
     "text": [
      "2\n",
      "4\n",
      "6\n",
      "8\n",
      "10\n",
      "12\n",
      "14\n",
      "16\n",
      "18\n",
      "20\n"
     ]
    }
   ],
   "source": [
    "for i in range(2,21,2):\n",
    "    print(i)"
   ]
  },
  {
   "cell_type": "code",
   "execution_count": 100,
   "id": "4ed9c963",
   "metadata": {},
   "outputs": [
    {
     "name": "stdout",
     "output_type": "stream",
     "text": [
      "1\n",
      "2\n",
      "3\n",
      "4\n",
      "5\n",
      "6\n",
      "7\n",
      "8\n",
      "9\n",
      "10\n",
      "11\n",
      "12\n",
      "13\n",
      "14\n",
      "15\n",
      "16\n",
      "17\n",
      "18\n",
      "19\n",
      "20\n"
     ]
    }
   ],
   "source": [
    "for i in range(1,21,1):\n",
    "    print(i)"
   ]
  },
  {
   "cell_type": "code",
   "execution_count": 101,
   "id": "d5dda22f",
   "metadata": {},
   "outputs": [
    {
     "name": "stdout",
     "output_type": "stream",
     "text": [
      "2\n",
      "3\n",
      "4\n",
      "5\n",
      "6\n",
      "7\n",
      "8\n",
      "9\n",
      "10\n",
      "11\n",
      "12\n",
      "13\n",
      "14\n",
      "15\n",
      "16\n",
      "17\n",
      "18\n",
      "19\n",
      "20\n"
     ]
    }
   ],
   "source": [
    "for i in range(2,21,1):\n",
    "    print(i)"
   ]
  },
  {
   "cell_type": "code",
   "execution_count": 103,
   "id": "1b2d9c2c",
   "metadata": {},
   "outputs": [
    {
     "name": "stdout",
     "output_type": "stream",
     "text": [
      "1\n",
      "2\n",
      "3\n",
      "4\n",
      "5\n",
      "6\n",
      "7\n",
      "8\n",
      "9\n",
      "10\n",
      "11\n",
      "12\n",
      "13\n",
      "14\n",
      "15\n",
      "16\n",
      "17\n",
      "18\n",
      "19\n",
      "20\n"
     ]
    }
   ],
   "source": [
    "for i in range(1,21,1):\n",
    "    print(i)"
   ]
  },
  {
   "cell_type": "code",
   "execution_count": null,
   "id": "ea3462e4",
   "metadata": {},
   "outputs": [],
   "source": []
  }
 ],
 "metadata": {
  "kernelspec": {
   "display_name": "Python 3 (ipykernel)",
   "language": "python",
   "name": "python3"
  },
  "language_info": {
   "codemirror_mode": {
    "name": "ipython",
    "version": 3
   },
   "file_extension": ".py",
   "mimetype": "text/x-python",
   "name": "python",
   "nbconvert_exporter": "python",
   "pygments_lexer": "ipython3",
   "version": "3.11.3"
  }
 },
 "nbformat": 4,
 "nbformat_minor": 5
}
